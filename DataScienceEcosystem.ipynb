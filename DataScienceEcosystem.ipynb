{
 "cells": [
  {
   "cell_type": "markdown",
   "id": "3aa335ad-8f17-42d0-bf79-87c8fab5afef",
   "metadata": {},
   "source": [
    "# Data Science Tools and Ecosystem"
   ]
  },
  {
   "cell_type": "markdown",
   "id": "399ebab8-2113-4f15-a65a-8806cebceab2",
   "metadata": {},
   "source": [
    "## In this notebook, Data Science Tools and Ecosystem are summarized."
   ]
  },
  {
   "cell_type": "markdown",
   "id": "7f385315-dc04-492a-a3c0-356a6f1ecb1d",
   "metadata": {},
   "source": [
    "### Objectives:\n",
    "- List popular languages for Data Science\n",
    "- List commonly used libraries used by  Data Scientists\n",
    "- Data Science Tools used\n",
    "- Examples of evaluating arithmetic expressions\n",
    "- Expression for conversion of minutes into hours"
   ]
  },
  {
   "cell_type": "markdown",
   "id": "9efe67a4-1513-4b17-a2ad-b6b2e8f0a573",
   "metadata": {},
   "source": [
    "### Overview\n",
    "Some of the popular languages that Data Scientists use are:\n",
    "\n",
    "1. Python\n",
    "2. Java\n",
    "3. R "
   ]
  },
  {
   "cell_type": "markdown",
   "id": "f3bac906-78ab-4d22-8333-16f0557cce77",
   "metadata": {},
   "source": [
    "Some of the commonly used libraries used by Data Scientists include:\n",
    "\n",
    "1. TensorFLow\n",
    "2. Numpy\n",
    "3. Pandas\n",
    "4. Scipy"
   ]
  },
  {
   "cell_type": "markdown",
   "id": "478f2ead-96f4-4fad-ac7c-e98746da9e25",
   "metadata": {},
   "source": [
    "| Data Science Tools |\n",
    "|--------------------|\n",
    "|RStudio|\n",
    "|Apache Spark|\n",
    "|Tableau|"
   ]
  },
  {
   "cell_type": "markdown",
   "id": "58ca8508-9fb1-417f-99de-0783d3ec5a6e",
   "metadata": {},
   "source": [
    "### Below are a few examples of evaluating arithmetic expressions in Python\n",
    "- 2+3\n",
    "- 2 ** 3\n",
    "- 2//4"
   ]
  },
  {
   "cell_type": "code",
   "execution_count": 3,
   "id": "df581bc5-af31-4660-891f-69411cc80668",
   "metadata": {
    "tags": []
   },
   "outputs": [
    {
     "data": {
      "text/plain": [
       "17"
      ]
     },
     "execution_count": 3,
     "metadata": {},
     "output_type": "execute_result"
    }
   ],
   "source": [
    "# This a simple arithmetic expression to mutiply then add integers\n",
    "(3*4)+5"
   ]
  },
  {
   "cell_type": "code",
   "execution_count": 6,
   "id": "a71d5308-f606-48b3-8dfc-0c1c4c500580",
   "metadata": {
    "tags": []
   },
   "outputs": [
    {
     "name": "stdout",
     "output_type": "stream",
     "text": [
      "3.3333333333333335\n"
     ]
    }
   ],
   "source": [
    "#This will convert 200 minutes to hours by diving by 60\n",
    "min = 200\n",
    "hours = mins / 60 \n",
    "print(hours)"
   ]
  },
  {
   "cell_type": "markdown",
   "id": "4436f0e2-e54a-4f0a-be2f-a374da323511",
   "metadata": {},
   "source": [
    "## Author \n",
    "Prithvi raj"
   ]
  }
 ],
 "metadata": {
  "kernelspec": {
   "display_name": "Python",
   "language": "python",
   "name": "conda-env-python-py"
  },
  "language_info": {
   "codemirror_mode": {
    "name": "ipython",
    "version": 3
   },
   "file_extension": ".py",
   "mimetype": "text/x-python",
   "name": "python",
   "nbconvert_exporter": "python",
   "pygments_lexer": "ipython3",
   "version": "3.7.12"
  }
 },
 "nbformat": 4,
 "nbformat_minor": 5
}
